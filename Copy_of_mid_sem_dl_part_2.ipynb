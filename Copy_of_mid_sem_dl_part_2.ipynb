{
  "nbformat": 4,
  "nbformat_minor": 0,
  "metadata": {
    "colab": {
      "provenance": []
    },
    "kernelspec": {
      "name": "python3",
      "display_name": "Python 3"
    },
    "language_info": {
      "name": "python"
    },
    "accelerator": "GPU"
  },
  "cells": [
    {
      "cell_type": "markdown",
      "source": [
        "# Mid-semester assignment Part 2 - Basics of deep learning\n",
        "Hello dear students,<br> this is the template notebook. Please upload it into your drive and open as Google Colab nootebook\".\n",
        "\n",
        "---\n",
        "<br>\n",
        "\n",
        "### Name and ID:\n",
        "Student 1: Lital Porat 206571846\n",
        "<br>\n",
        "Student 2: Shir Lavi 315243394"
      ],
      "metadata": {
        "collapsed": false,
        "pycharm": {
          "name": "#%% md\n"
        },
        "id": "XDDbguyGU8Fs"
      }
    },
    {
      "cell_type": "markdown",
      "source": [
        "## Fashion MNIST with Keras\n",
        "Fashion MNIST dataset contains 70,000 grayscale images in 10 categories. The images show individual articles of clothing at low resolution (28 by 28 pixels), as seen here:\n",
        "\n",
        "<table>\n",
        "  <tr><td>\n",
        "    <img src=\"https://cloudxlab.com/blog/wp-content/uploads/2019/06/Tensorflow_Keras.png\"\n",
        "         alt=\"Fashion MNIST sprite\"  width=\"600\">\n",
        "  </td></tr>\n",
        "  \n",
        "</table>\n"
      ],
      "metadata": {
        "id": "JLkWLC8f3HZI"
      }
    },
    {
      "cell_type": "markdown",
      "source": [
        "Loading the dataset returns four NumPy arrays:\n",
        "\n",
        "* The `train_images` and `train_labels` arrays are the *training set*—the data the model uses to learn.\n",
        "* The model is tested against the *test set*, the `test_images`, and `test_labels` arrays.\n",
        "\n",
        "The images are 28x28 NumPy arrays, with pixel values ranging between 0 and 255. The *labels* are an array of integers, ranging from 0 to 9. These correspond to the *class* of clothing the image represents:\n",
        "\n",
        "<table>\n",
        "  <tr>\n",
        "    <th>Label</th>\n",
        "    <th>Class</th>\n",
        "  </tr>\n",
        "  <tr>\n",
        "    <td>0</td>\n",
        "    <td>T-shirt/top</td>\n",
        "  </tr>\n",
        "  <tr>\n",
        "    <td>1</td>\n",
        "    <td>Trouser</td>\n",
        "  </tr>\n",
        "    <tr>\n",
        "    <td>2</td>\n",
        "    <td>Pullover</td>\n",
        "  </tr>\n",
        "    <tr>\n",
        "    <td>3</td>\n",
        "    <td>Dress</td>\n",
        "  </tr>\n",
        "    <tr>\n",
        "    <td>4</td>\n",
        "    <td>Coat</td>\n",
        "  </tr>\n",
        "    <tr>\n",
        "    <td>5</td>\n",
        "    <td>Sandal</td>\n",
        "  </tr>\n",
        "    <tr>\n",
        "    <td>6</td>\n",
        "    <td>Shirt</td>\n",
        "  </tr>\n",
        "    <tr>\n",
        "    <td>7</td>\n",
        "    <td>Sneaker</td>\n",
        "  </tr>\n",
        "    <tr>\n",
        "    <td>8</td>\n",
        "    <td>Bag</td>\n",
        "  </tr>\n",
        "    <tr>\n",
        "    <td>9</td>\n",
        "    <td>Ankle boot</td>\n",
        "  </tr>\n",
        "</table>\n",
        "\n",
        "<br>\n",
        "\n",
        "# Goodluck!"
      ],
      "metadata": {
        "id": "WiRxNFCn3Vxd"
      }
    },
    {
      "cell_type": "markdown",
      "source": [
        "# Neural Network with Tensorflow Keras part 1 (Binary Classification)"
      ],
      "metadata": {
        "collapsed": false,
        "pycharm": {
          "name": "#%% md\n"
        },
        "id": "EU8d54pEU8GF"
      }
    },
    {
      "cell_type": "markdown",
      "source": [
        "## Import Libraries"
      ],
      "metadata": {
        "id": "UPCSaccR32De"
      }
    },
    {
      "cell_type": "code",
      "execution_count": null,
      "outputs": [],
      "source": [
        "import tensorflow as tf\n",
        "import numpy as np\n",
        "from tensorflow import keras\n",
        "from keras.datasets import mnist\n",
        "import matplotlib.pyplot as plt\n",
        "from keras.callbacks import ModelCheckpoint\n",
        "from keras.datasets import fashion_mnist\n",
        "from keras.layers.core import Dense, Dropout, Activation\n",
        "from keras.models import Sequential\n",
        "from keras.utils import np_utils"
      ],
      "metadata": {
        "pycharm": {
          "name": "#%%\n"
        },
        "id": "RyvoZdAXU8GG"
      }
    },
    {
      "cell_type": "markdown",
      "source": [
        "## Load Dataset"
      ],
      "metadata": {
        "id": "Q1WPjPPR6Wpr"
      }
    },
    {
      "cell_type": "code",
      "execution_count": null,
      "outputs": [
        {
          "output_type": "display_data",
          "data": {
            "text/plain": [
              "<Figure size 432x288 with 1 Axes>"
            ],
            "image/png": "[encoded data removed]"
          },
          "metadata": {
            "needs_background": "light"
          }
        },
        {
          "output_type": "stream",
          "name": "stdout",
          "text": [
            "8\n"
          ]
        }
      ],
      "source": [
        "fashion_mnist = keras.datasets.fashion_mnist\n",
        "\n",
        "(X_train, y_train), (X_test, y_test) = fashion_mnist.load_data()\n",
        "plt.imshow(X_train[100])\n",
        "plt.show()\n",
        "print(y_train[100])"
      ],
      "metadata": {
        "pycharm": {
          "name": "#%%\n"
        },
        "id": "xSM3px5EU8GG",
        "colab": {
          "base_uri": "https://localhost:8080/",
          "height": 282
        },
        "outputId": "b8c5d17f-65a7-4bdb-ec3a-87a84ff94eee"
      }
    },
    {
      "cell_type": "markdown",
      "source": [
        "## Data preprocessing"
      ],
      "metadata": {
        "collapsed": false,
        "pycharm": {
          "name": "#%% md\n"
        },
        "id": "6Sm0udbSU8GG"
      }
    },
    {
      "cell_type": "markdown",
      "source": [
        "### Feature scaling"
      ],
      "metadata": {
        "collapsed": false,
        "pycharm": {
          "name": "#%% md\n"
        },
        "id": "ZZAUfLmVU8GH"
      }
    },
    {
      "cell_type": "code",
      "execution_count": null,
      "outputs": [],
      "source": [
        "X_train = X_train/255\n",
        "X_test = X_test/255"
      ],
      "metadata": {
        "pycharm": {
          "name": "#%%\n"
        },
        "id": "hzqQphx7U8GH"
      }
    },
    {
      "cell_type": "markdown",
      "source": [
        "### Select two classes"
      ],
      "metadata": {
        "id": "YSzvJ196GkvO"
      }
    },
    {
      "cell_type": "code",
      "source": [
        "train_y = []\n",
        "train_x = []\n",
        "\n",
        "for i in range (len(y_train)):\n",
        "  if y_train[i]==0 or y_train[i]==1:\n",
        "    train_y.append(y_train[i])\n",
        "    train_x.append(X_train[i])\n",
        "\n",
        "test_y = []\n",
        "test_x = []\n",
        "\n",
        "for i in range (len(y_test)):\n",
        "  if y_test[i]==0 or y_test[i]==1:\n",
        "    test_y.append(y_test[i])\n",
        "    test_x.append(X_test[i])\n",
        "\n",
        "train_x=np.array(train_x)\n",
        "test_x=np.array(test_x)\n",
        "train_y=np.array(train_y).reshape(12000,1)\n",
        "test_y=np.array(test_y).reshape(2000,1)\n",
        "trainX, val_x = train_x[:int(len(train_x)*0.8)] , train_x[int(len(train_x)*0.8):]\n",
        "trainY, val_y = train_y[:int(len(train_y)*0.8)] , train_y[int(len(train_y)*0.8):]\n",
        "\n",
        "\n",
        "print(test_y[0])\n",
        "plt.imshow(test_x[100])\n",
        "plt.show()"
      ],
      "metadata": {
        "id": "yjpHGlrmGlbe",
        "colab": {
          "base_uri": "https://localhost:8080/",
          "height": 282
        },
        "outputId": "2f4c4b60-0104-4062-dda7-1c96f6c25da7"
      },
      "execution_count": null,
      "outputs": [
        {
          "output_type": "stream",
          "name": "stdout",
          "text": [
            "[1]\n"
          ]
        },
        {
          "output_type": "display_data",
          "data": {
            "text/plain": [
              "<Figure size 432x288 with 1 Axes>"
            ],
            "image/png": "[encoded data removed]"
          },
          "metadata": {
            "needs_background": "light"
          }
        }
      ]
    },
    {
      "cell_type": "markdown",
      "source": [
        "\n",
        "We need to convert 1-dimensional class arrays to multi-dimensional class matrices<br>\n",
        "\n",
        "\n",
        "`np_utils.to_categorical` is used to convert array of labeled data(from 0 to nb_classes - 1) to one-hot vector.<br>\n",
        "Read about np_utils here: https://www.tensorflow.org/api_docs/python/tf/keras/utils/to_categorical"
      ],
      "metadata": {
        "collapsed": false,
        "pycharm": {
          "name": "#%% md\n"
        },
        "id": "FlCtN7Y-U8GH"
      }
    },
    {
      "cell_type": "code",
      "execution_count": null,
      "outputs": [],
      "source": [
        "from keras.utils import np_utils"
      ],
      "metadata": {
        "pycharm": {
          "name": "#%%\n"
        },
        "id": "PrJ6v0ACU8GI"
      }
    },
    {
      "cell_type": "markdown",
      "source": [
        "### Build the network layers\n",
        "Read about Fully connected layers in keras here: https://www.tensorflow.org/api_docs/python/tf/keras/layers/Dense"
      ],
      "metadata": {
        "collapsed": false,
        "pycharm": {
          "name": "#%% md\n"
        },
        "id": "jwIzE9kSU8GI"
      }
    },
    {
      "cell_type": "code",
      "source": [
        "from keras.models import Sequential\n",
        "from keras.layers import Flatten, Dense\n",
        "\n",
        "model = Sequential() # Declare a Sequential model \n",
        "model.add(Dense(128, input_shape=(28,28)))\n",
        "model.add(Activation('sigmoid')) # Apply sigmoid activation function to the layer output\n",
        "model.add(Dense(128)) # Add a hidden layer of 512 units\n",
        "model.add(Activation('sigmoid'))\n",
        "model.add(Flatten())\n",
        "model.add(Dense(1)) # Add an output layer of  \n",
        "model.add(Activation('sigmoid')) # The \"sigmoid\" activation ensures the output is a valid probability distribution\n",
        "print(model.output_shape)"
      ],
      "metadata": {
        "pycharm": {
          "name": "#%%\n",
          "is_executing": true
        },
        "id": "U3IepEv6U8GI",
        "colab": {
          "base_uri": "https://localhost:8080/"
        },
        "outputId": "cfa50582-f418-4dbd-d5d7-341ed0bd34a2"
      },
      "execution_count": null,
      "outputs": [
        {
          "output_type": "stream",
          "name": "stdout",
          "text": [
            "(None, 1)\n"
          ]
        }
      ]
    },
    {
      "cell_type": "markdown",
      "source": [
        "### Build the Optimizer\n",
        "Read about the Optimizer here: https://keras.io/api/optimizers/"
      ],
      "metadata": {
        "collapsed": false,
        "pycharm": {
          "name": "#%% md\n"
        },
        "id": "VH6cuNVOU8GJ"
      }
    },
    {
      "cell_type": "code",
      "execution_count": null,
      "outputs": [],
      "source": [
        "from keras.optimizers import Adam\n",
        "opt = keras.optimizers.Adam(learning_rate=0.01)\n",
        "model.compile(loss='binary_crossentropy', optimizer=opt, metrics=['accuracy'])"
      ],
      "metadata": {
        "pycharm": {
          "name": "#%%\n"
        },
        "id": "2Xndbe19U8GJ"
      }
    },
    {
      "cell_type": "markdown",
      "source": [
        "### Training\n",
        "Use the fit method to train your model, then store the results within the variable \"history\".\n"
      ],
      "metadata": {
        "collapsed": false,
        "pycharm": {
          "name": "#%% md\n"
        },
        "id": "c7kXhHkoU8GJ"
      }
    },
    {
      "cell_type": "code",
      "execution_count": null,
      "outputs": [
        {
          "output_type": "stream",
          "name": "stdout",
          "text": [
            "Epoch 1/25\n",
            "75/75 [==============================] - 1s 6ms/step - loss: 0.8635 - accuracy: 0.5340 - val_loss: 0.5025 - val_accuracy: 0.7150\n",
            "Epoch 2/25\n",
            "75/75 [==============================] - 0s 4ms/step - loss: 0.2410 - accuracy: 0.9184 - val_loss: 0.1316 - val_accuracy: 0.9575\n",
            "Epoch 3/25\n",
            "75/75 [==============================] - 0s 4ms/step - loss: 0.1141 - accuracy: 0.9555 - val_loss: 0.0839 - val_accuracy: 0.9700\n",
            "Epoch 4/25\n",
            "75/75 [==============================] - 0s 4ms/step - loss: 0.0621 - accuracy: 0.9766 - val_loss: 0.0495 - val_accuracy: 0.9846\n",
            "Epoch 5/25\n",
            "75/75 [==============================] - 0s 4ms/step - loss: 0.0402 - accuracy: 0.9859 - val_loss: 0.0419 - val_accuracy: 0.9871\n",
            "Epoch 6/25\n",
            "75/75 [==============================] - 0s 4ms/step - loss: 0.0348 - accuracy: 0.9882 - val_loss: 0.0389 - val_accuracy: 0.9871\n",
            "Epoch 7/25\n",
            "75/75 [==============================] - 0s 4ms/step - loss: 0.0308 - accuracy: 0.9899 - val_loss: 0.0379 - val_accuracy: 0.9900\n",
            "Epoch 8/25\n",
            "75/75 [==============================] - 0s 4ms/step - loss: 0.0281 - accuracy: 0.9898 - val_loss: 0.0357 - val_accuracy: 0.9908\n",
            "Epoch 9/25\n",
            "75/75 [==============================] - 0s 4ms/step - loss: 0.0264 - accuracy: 0.9912 - val_loss: 0.0335 - val_accuracy: 0.9912\n",
            "Epoch 10/25\n",
            "75/75 [==============================] - 0s 4ms/step - loss: 0.0237 - accuracy: 0.9927 - val_loss: 0.0387 - val_accuracy: 0.9875\n",
            "Epoch 11/25\n",
            "75/75 [==============================] - 0s 4ms/step - loss: 0.0234 - accuracy: 0.9922 - val_loss: 0.0318 - val_accuracy: 0.9912\n",
            "Epoch 12/25\n",
            "75/75 [==============================] - 0s 4ms/step - loss: 0.0218 - accuracy: 0.9923 - val_loss: 0.0317 - val_accuracy: 0.9908\n",
            "Epoch 13/25\n",
            "75/75 [==============================] - 0s 4ms/step - loss: 0.0212 - accuracy: 0.9926 - val_loss: 0.0297 - val_accuracy: 0.9912\n",
            "Epoch 14/25\n",
            "75/75 [==============================] - 0s 4ms/step - loss: 0.0201 - accuracy: 0.9925 - val_loss: 0.0289 - val_accuracy: 0.9904\n",
            "Epoch 15/25\n",
            "75/75 [==============================] - 0s 4ms/step - loss: 0.0188 - accuracy: 0.9931 - val_loss: 0.0290 - val_accuracy: 0.9921\n",
            "Epoch 16/25\n",
            "75/75 [==============================] - 0s 4ms/step - loss: 0.0188 - accuracy: 0.9931 - val_loss: 0.0304 - val_accuracy: 0.9917\n",
            "Epoch 17/25\n",
            "75/75 [==============================] - 0s 4ms/step - loss: 0.0179 - accuracy: 0.9939 - val_loss: 0.0266 - val_accuracy: 0.9917\n",
            "Epoch 18/25\n",
            "75/75 [==============================] - 0s 4ms/step - loss: 0.0165 - accuracy: 0.9941 - val_loss: 0.0252 - val_accuracy: 0.9925\n",
            "Epoch 19/25\n",
            "75/75 [==============================] - 0s 4ms/step - loss: 0.0153 - accuracy: 0.9949 - val_loss: 0.0291 - val_accuracy: 0.9925\n",
            "Epoch 20/25\n",
            "75/75 [==============================] - 0s 4ms/step - loss: 0.0148 - accuracy: 0.9953 - val_loss: 0.0300 - val_accuracy: 0.9917\n",
            "Epoch 21/25\n",
            "75/75 [==============================] - 0s 4ms/step - loss: 0.0148 - accuracy: 0.9950 - val_loss: 0.0288 - val_accuracy: 0.9917\n",
            "Epoch 22/25\n",
            "75/75 [==============================] - 0s 4ms/step - loss: 0.0134 - accuracy: 0.9959 - val_loss: 0.0260 - val_accuracy: 0.9933\n",
            "Epoch 23/25\n",
            "75/75 [==============================] - 0s 4ms/step - loss: 0.0123 - accuracy: 0.9961 - val_loss: 0.0268 - val_accuracy: 0.9921\n",
            "Epoch 24/25\n",
            "75/75 [==============================] - 0s 4ms/step - loss: 0.0128 - accuracy: 0.9954 - val_loss: 0.0274 - val_accuracy: 0.9925\n",
            "Epoch 25/25\n",
            "75/75 [==============================] - 0s 4ms/step - loss: 0.0117 - accuracy: 0.9955 - val_loss: 0.0286 - val_accuracy: 0.9917\n"
          ]
        }
      ],
      "source": [
        "history = model.fit(trainX, trainY, batch_size=128, epochs=25, validation_data=(val_x,val_y))"
      ],
      "metadata": {
        "pycharm": {
          "name": "#%%\n"
        },
        "id": "Sq1KOMEeU8GJ",
        "colab": {
          "base_uri": "https://localhost:8080/"
        },
        "outputId": "82fa8e34-9fb6-41f8-cdbb-bb62b42c164c"
      }
    },
    {
      "cell_type": "markdown",
      "source": [
        "### Save Trained model (weights)\n",
        "Read about Save and load models in tensorflow.keras here: [https://www.tensorflow.org/tutorials/keras/save_and_load](https://www.tensorflow.org/tutorials/keras/save_and_load)\n"
      ],
      "metadata": {
        "id": "zS3_ZnXk450S"
      }
    },
    {
      "cell_type": "code",
      "source": [
        "weights = model.get_weights()\n",
        "print(weights)"
      ],
      "metadata": {
        "id": "Pb66kyHa5c-l",
        "colab": {
          "base_uri": "https://localhost:8080/"
        },
        "outputId": "45effdd7-9717-4f22-a40b-c3ad9ece8181"
      },
      "execution_count": null,
      "outputs": [
        {
          "output_type": "stream",
          "name": "stdout",
          "text": [
            "[array([[-0.14470991,  0.04871702,  0.1664196 , ..., -0.8259993 ,\n",
            "        -0.18235856, -0.3562818 ],\n",
            "       [-0.78977656, -1.0963752 , -0.3086302 , ..., -0.9555572 ,\n",
            "        -0.28941974, -1.0337877 ],\n",
            "       [-0.17246874, -1.6896504 , -0.9163736 , ..., -0.9898973 ,\n",
            "         0.22602873, -0.8500854 ],\n",
            "       ...,\n",
            "       [ 0.21143538, -1.6787596 ,  0.02075325, ..., -0.7907405 ,\n",
            "        -0.01069603, -0.31081125],\n",
            "       [-0.30668557, -2.0358832 ,  0.13193193, ..., -0.9892575 ,\n",
            "        -0.3559074 , -0.41749254],\n",
            "       [-0.4704456 , -0.8029055 ,  1.0821457 , ..., -0.8944036 ,\n",
            "        -0.9643141 , -0.18363881]], dtype=float32), array([-0.14440572,  0.0905946 , -0.12253226,  0.1007637 ,  0.03940178,\n",
            "        0.01197319, -0.02846965, -0.18577228, -0.13182442, -0.1154489 ,\n",
            "        0.19046077, -0.21332714, -0.3502689 , -0.23774539, -0.14794436,\n",
            "       -0.1544012 , -0.24268733, -0.25591797, -0.21724379, -0.22138634,\n",
            "       -0.21921769, -0.19610177, -0.24911118, -0.00063816, -0.06457276,\n",
            "       -0.17252825, -0.08208339, -0.04171596, -0.16716507, -0.19195278,\n",
            "       -0.22384475, -0.21218762, -0.1349211 , -0.14254165, -0.24688607,\n",
            "       -0.14726266, -0.18166836, -0.1381751 ,  0.19494228, -0.06159092,\n",
            "       -0.15757342, -0.33171213, -0.1550563 , -0.23612484, -0.17821859,\n",
            "       -0.14004602, -0.09322626, -0.12673749, -0.1638553 , -0.06543118,\n",
            "       -0.04805937,  0.00453544, -0.16523938, -0.23616618, -0.0263109 ,\n",
            "        0.06381831, -0.19182259, -0.2847763 , -0.12211329, -0.14918193,\n",
            "       -0.19218005,  0.4894818 , -0.2820877 , -0.07141505,  0.044007  ,\n",
            "       -0.20078638, -0.17157601, -0.13834794,  0.13719095, -0.16964693,\n",
            "       -0.44127995,  0.04049531, -0.5846399 , -0.1592446 , -0.13372345,\n",
            "        0.5684225 ,  0.16097651, -0.02281499, -0.17225674, -0.15483448,\n",
            "       -0.12423179, -0.21331081, -0.4380777 , -0.05408769, -0.19592798,\n",
            "       -0.12258439, -0.18463497, -0.43291745, -0.20210138, -0.27532637,\n",
            "       -0.1909021 , -0.12231544, -0.1049052 , -0.05238379, -0.15568389,\n",
            "       -0.16884159, -0.18532097, -0.04635604, -0.12018306, -0.2012042 ,\n",
            "       -0.31617963, -0.13794513, -0.1908327 , -0.00224626, -0.4256624 ,\n",
            "       -0.16486682, -0.4228812 , -0.24678676, -0.2140924 ,  0.05594331,\n",
            "       -0.00415081, -0.12565024, -0.46935338,  0.09646474, -0.10600153,\n",
            "       -0.01401045, -0.09025989,  0.0093589 , -0.11119347, -0.28888533,\n",
            "       -0.23569587, -0.13240477, -0.3701287 , -0.08575059, -0.06956138,\n",
            "       -0.19730544, -0.13467635, -0.06016454], dtype=float32), array([[ 0.14382358, -0.03419779, -0.03869362, ..., -0.21081063,\n",
            "        -0.09587077, -0.14858015],\n",
            "       [-0.17119728, -0.17794622, -0.13492362, ...,  0.04956881,\n",
            "        -0.08780518, -0.19531365],\n",
            "       [-0.145135  , -0.02149863, -0.16561162, ..., -0.17243125,\n",
            "        -0.06555536, -0.00223794],\n",
            "       ...,\n",
            "       [-0.1785085 ,  0.03561761, -0.19319046, ..., -0.08960717,\n",
            "         0.08572814, -0.20815076],\n",
            "       [-0.14415225, -0.0426838 ,  0.0070835 , ..., -0.13913216,\n",
            "        -0.04869494, -0.15077789],\n",
            "       [ 0.07792363, -0.12711444, -0.01572363, ..., -0.19770925,\n",
            "        -0.01584969, -0.08013619]], dtype=float32), array([-0.05072279, -0.11829907, -0.08762175, -0.03580727, -0.03978799,\n",
            "       -0.10898777, -0.10308119, -0.08994908, -0.11047964, -0.10562538,\n",
            "       -0.07935408, -0.09796901, -0.08511955,  0.06751804, -0.09366344,\n",
            "       -0.06477866, -0.06812655, -0.11439379, -0.10233689, -0.1113383 ,\n",
            "       -0.11446827, -0.06576764, -0.0812168 , -0.11852408, -0.11045156,\n",
            "       -0.09721905, -0.12498961, -0.08442284, -0.07892847, -0.12336846,\n",
            "       -0.02451973, -0.11227511,  0.00559862, -0.0763588 , -0.09038379,\n",
            "       -0.09637892, -0.09293348, -0.11244409, -0.11545445, -0.11685885,\n",
            "       -0.11102576, -0.08020845, -0.08932345, -0.11651542, -0.14061831,\n",
            "       -0.14032544, -0.09524631, -0.08586048, -0.02537718, -0.12541375,\n",
            "       -0.06065924, -0.13389196, -0.07370747, -0.11926064, -0.0923553 ,\n",
            "       -0.10066176, -0.11178172, -0.07255463, -0.11442574,  0.15997183,\n",
            "       -0.12583877, -0.08898793, -0.11819223, -0.1358159 , -0.11246379,\n",
            "       -0.06313457, -0.06033559, -0.1105328 , -0.09445129, -0.09100101,\n",
            "       -0.10213767, -0.11952176, -0.10308041, -0.11745855, -0.11341697,\n",
            "       -0.11882205,  0.12274327, -0.0915022 , -0.11985319, -0.06747013,\n",
            "       -0.07694396, -0.05337207, -0.07049198, -0.10853796, -0.09993922,\n",
            "       -0.10247348, -0.12630409, -0.11301152,  0.0096165 , -0.06830709,\n",
            "       -0.09408025, -0.11221777, -0.11333738, -0.09240139, -0.0851372 ,\n",
            "        0.00285721, -0.11825145, -0.09193236, -0.11262108, -0.09129925,\n",
            "       -0.11904893, -0.13014378, -0.09562479, -0.09289251, -0.02328564,\n",
            "        0.15302798, -0.13226575, -0.1156446 , -0.11677573, -0.06636082,\n",
            "       -0.08987679, -0.11545058, -0.07319004, -0.11314613, -0.10226288,\n",
            "       -0.14444092, -0.06203444, -0.12485512, -0.09006306, -0.07456513,\n",
            "       -0.08466861, -0.04194688, -0.11637928, -0.10948978, -0.00048062,\n",
            "       -0.08250102, -0.07762289, -0.07591897], dtype=float32), array([[ 0.05155553],\n",
            "       [ 0.01016648],\n",
            "       [ 0.00127227],\n",
            "       ...,\n",
            "       [-0.01287638],\n",
            "       [-0.00713872],\n",
            "       [ 0.02119998]], dtype=float32), array([-0.19167896], dtype=float32)]\n"
          ]
        }
      ]
    },
    {
      "cell_type": "markdown",
      "source": [
        "### Loss and Accuracy Visualization\n",
        "Show  on plot the lose during training"
      ],
      "metadata": {
        "collapsed": false,
        "pycharm": {
          "name": "#%% md\n"
        },
        "id": "bkNYD1oRU8GK"
      }
    },
    {
      "cell_type": "code",
      "execution_count": null,
      "outputs": [
        {
          "output_type": "display_data",
          "data": {
            "text/plain": [
              "<Figure size 432x288 with 1 Axes>"
            ],
            "image/png": "[encoded data removed]"
          },
          "metadata": {
            "needs_background": "light"
          }
        }
      ],
      "source": [
        "import matplotlib.pyplot as plt\n",
        "plt.plot(history.history['loss'])\n",
        "plt.plot(history.history['val_loss'])\n",
        "plt.title('model loss')\n",
        "plt.ylabel('loss')\n",
        "plt.xlabel('epoch')\n",
        "plt.legend(['train', 'val'], loc='upper left')\n",
        "plt.show()"
      ],
      "metadata": {
        "pycharm": {
          "name": "#%%\n"
        },
        "id": "iM8si3EBU8GK",
        "colab": {
          "base_uri": "https://localhost:8080/",
          "height": 295
        },
        "outputId": "c80dfd49-5b19-4842-cc99-e3aa01a94929"
      }
    },
    {
      "cell_type": "markdown",
      "source": [
        "Show  on plot the accuracy during training"
      ],
      "metadata": {
        "collapsed": false,
        "pycharm": {
          "name": "#%% md\n"
        },
        "id": "w4JBO5zuU8GK"
      }
    },
    {
      "cell_type": "code",
      "execution_count": null,
      "outputs": [
        {
          "output_type": "display_data",
          "data": {
            "text/plain": [
              "<Figure size 432x288 with 1 Axes>"
            ],
            "image/png": "[encoded data removed]"
          },
          "metadata": {
            "needs_background": "light"
          }
        }
      ],
      "source": [
        "plt.plot(history.history['accuracy'])\n",
        "plt.plot(history.history['val_accuracy'])\n",
        "plt.title('model accuracy')\n",
        "plt.ylabel('accuracy')\n",
        "plt.xlabel('epoch')\n",
        "plt.legend(['train', 'val'], loc='upper left')\n",
        "plt.show()"
      ],
      "metadata": {
        "pycharm": {
          "name": "#%%\n"
        },
        "id": "hOCsxuuTU8GK",
        "colab": {
          "base_uri": "https://localhost:8080/",
          "height": 295
        },
        "outputId": "4c9e24f1-eaeb-401d-8f41-63853a0c9f05"
      }
    },
    {
      "cell_type": "markdown",
      "source": [
        "### Test\n",
        "Test your model (Show accuracy by comparing the prediction VS the test label)"
      ],
      "metadata": {
        "collapsed": false,
        "pycharm": {
          "name": "#%% md\n"
        },
        "id": "SAUlD1ypU8GL"
      }
    },
    {
      "cell_type": "code",
      "execution_count": null,
      "outputs": [
        {
          "output_type": "stream",
          "name": "stdout",
          "text": [
            "63/63 [==============================] - 0s 2ms/step\n",
            "accuracy: 99.0%\n"
          ]
        }
      ],
      "source": [
        "from sklearn.metrics import accuracy_score\n",
        "y_pred = model.predict(test_x)\n",
        "predictions = np.zeros((1,test_y.shape[0]))\n",
        "labels = np.zeros((1,test_y.shape[0]))\n",
        "\n",
        "# Check your predictions against the test's labels\n",
        "for i in range(test_y.shape[0]):\n",
        "  if (y_pred[i,0] > 0.5): \n",
        "    predictions[0,i] = 1\n",
        "  labels[0,i] = test_y[i]\n",
        "print(f\"accuracy: {accuracy_score(labels.T,predictions.T).round(3)*100}%\")"
      ],
      "metadata": {
        "pycharm": {
          "name": "#%%\n"
        },
        "id": "rukB7UefU8GL",
        "colab": {
          "base_uri": "https://localhost:8080/"
        },
        "outputId": "a149831b-9f5c-4b82-fd3f-b2277954ecbd"
      }
    },
    {
      "cell_type": "markdown",
      "source": [
        "### Model Evaluation\n",
        "Show the model evaluation by presenting the confusion metrix in a representative way<br>\n",
        "Read about confusion metrix visualization here: https://scikit-learn.org/stable/auto_examples/model_selection/plot_confusion_matrix.html"
      ],
      "metadata": {
        "collapsed": false,
        "pycharm": {
          "name": "#%% md\n"
        },
        "id": "ClevveJ3U8GL"
      }
    },
    {
      "cell_type": "code",
      "execution_count": null,
      "outputs": [
        {
          "output_type": "display_data",
          "data": {
            "text/plain": [
              "<Figure size 432x288 with 2 Axes>"
            ],
            "image/png": "[encoded data removed]"
          },
          "metadata": {
            "needs_background": "light"
          }
        }
      ],
      "source": [
        "import matplotlib.pyplot as plt\n",
        "from sklearn.metrics import ConfusionMatrixDisplay\n",
        "\n",
        "ConfusionMatrixDisplay.from_predictions(labels.T,predictions.T)\n",
        "plt.show()"
      ],
      "metadata": {
        "pycharm": {
          "name": "#%%\n"
        },
        "id": "KHQVaRZKU8GL",
        "colab": {
          "base_uri": "https://localhost:8080/",
          "height": 279
        },
        "outputId": "593ba97a-0541-4ec9-b7d4-7413a7523572"
      }
    },
    {
      "cell_type": "markdown",
      "source": [
        "---\n",
        "<br>\n",
        "\n",
        "\n",
        "# Neural Network with Tensorflow Keras part 2 (Multiclass Classification)"
      ],
      "metadata": {
        "id": "s6_ug9JLjmM8"
      }
    },
    {
      "cell_type": "markdown",
      "source": [
        "## Import Libraries"
      ],
      "metadata": {
        "id": "Dn9kBnoOkJ7B"
      }
    },
    {
      "cell_type": "code",
      "source": [
        "from keras.callbacks import ModelCheckpoint\n",
        "from keras.datasets import fashion_mnist\n",
        "from keras.layers.core import Dense, Dropout, Activation, Flatten\n",
        "from keras.models import Sequential\n",
        "from keras.utils import np_utils\n",
        "import numpy as np\n",
        "import matplotlib.pyplot as plt\n",
        "import pandas as pd\n",
        "import seaborn as sns"
      ],
      "metadata": {
        "id": "0L5QXTC5kK9F"
      },
      "execution_count": null,
      "outputs": []
    },
    {
      "cell_type": "markdown",
      "source": [
        "## Load Dataset"
      ],
      "metadata": {
        "id": "pcLzuIa3kOQ_"
      }
    },
    {
      "cell_type": "code",
      "source": [
        "fashion_mnist = keras.datasets.fashion_mnist\n",
        "\n",
        "(X_train, y_train), (X_test, y_test) = fashion_mnist.load_data()\n",
        "plt.imshow(X_train[1])\n",
        "plt.show()"
      ],
      "metadata": {
        "colab": {
          "base_uri": "https://localhost:8080/",
          "height": 404
        },
        "id": "B0z91q_6kUPh",
        "outputId": "c0d3df65-bc07-40b8-de66-39212a9887fa"
      },
      "execution_count": null,
      "outputs": [
        {
          "output_type": "stream",
          "name": "stdout",
          "text": [
            "Downloading data from https://storage.googleapis.com/tensorflow/tf-keras-datasets/train-labels-idx1-ubyte.gz\n",
            "29515/29515 [==============================] - 0s 0us/step\n",
            "Downloading data from https://storage.googleapis.com/tensorflow/tf-keras-datasets/train-images-idx3-ubyte.gz\n",
            "26421880/26421880 [==============================] - 1s 0us/step\n",
            "Downloading data from https://storage.googleapis.com/tensorflow/tf-keras-datasets/t10k-labels-idx1-ubyte.gz\n",
            "5148/5148 [==============================] - 0s 0us/step\n",
            "Downloading data from https://storage.googleapis.com/tensorflow/tf-keras-datasets/t10k-images-idx3-ubyte.gz\n",
            "4422102/4422102 [==============================] - 0s 0us/step\n"
          ]
        },
        {
          "output_type": "display_data",
          "data": {
            "text/plain": [
              "<Figure size 432x288 with 1 Axes>"
            ],
            "image/png": "[encoded data removed]"
          },
          "metadata": {
            "needs_background": "light"
          }
        }
      ]
    },
    {
      "cell_type": "code",
      "source": [
        "x_train = X_train / 255.0\n",
        "x_test = X_test / 255.0\n",
        "\n",
        "y_train = tf.keras.utils.to_categorical(y_train, num_classes=10)\n",
        "ytest = tf.keras.utils.to_categorical(y_test, num_classes=10)\n",
        "y_test = y_test.reshape(10000,1)\n",
        "\n",
        "\n",
        "train_y=[]\n",
        "test_y=[]\n",
        "trainX, val_x = x_train[:int(len(x_train)*0.8)] , x_train[int(len(x_train)*0.8):]\n",
        "trainY, val_y = y_train[:int(len(y_train)*0.8)] , y_train[int(len(y_train)*0.8):]"
      ],
      "metadata": {
        "id": "QAj1Sk_oU1B_"
      },
      "execution_count": null,
      "outputs": []
    },
    {
      "cell_type": "markdown",
      "source": [
        "### The rest you will have to create yourself..."
      ],
      "metadata": {
        "id": "Zcr6QaXFkmI4"
      }
    },
    {
      "cell_type": "markdown",
      "source": [
        "## Models"
      ],
      "metadata": {
        "id": "xMTvB9TolhcG"
      }
    },
    {
      "cell_type": "code",
      "source": [
        "def loss_accuracy(history):\n",
        "  plt.plot(history.history['loss'])\n",
        "  plt.plot(history.history['val_loss'])\n",
        "  plt.title('model loss')\n",
        "  plt.ylabel('loss')\n",
        "  plt.xlabel('epoch')\n",
        "  plt.legend(['train', 'val'], loc='upper left')\n",
        "  plt.show()\n",
        "  \n",
        "  plt.plot(history.history['accuracy'])\n",
        "  plt.plot(history.history['val_accuracy'])\n",
        "  plt.title('model accuracy')\n",
        "  plt.ylabel('accuracy')\n",
        "  plt.xlabel('epoch')\n",
        "  plt.legend(['train', 'val'], loc='upper left')\n",
        "  plt.show()"
      ],
      "metadata": {
        "id": "SL8UPfmYv8EK"
      },
      "execution_count": null,
      "outputs": []
    },
    {
      "cell_type": "markdown",
      "source": [
        "### Base Model"
      ],
      "metadata": {
        "id": "rOqJ_9CGk3h9"
      }
    },
    {
      "cell_type": "code",
      "source": [
        "from keras.optimizers import Adam\n",
        "opt = keras.optimizers.Adam(learning_rate=0.01)\n",
        "# Define the model\n",
        "baseModel = tf.keras.models.Sequential()\n",
        "baseModel.add(tf.keras.layers.Dense(64, input_shape=(28, 28), activation='relu'))\n",
        "baseModel.add(Flatten())\n",
        "baseModel.add(tf.keras.layers.Dense(10, activation='softmax'))\n",
        "\n",
        "# Compile the model\n",
        "baseModel.compile(optimizer='adam', loss='categorical_crossentropy', metrics=['accuracy'])\n",
        "\n",
        "# Train the model\n",
        "history = baseModel.fit(trainX, trainY, epochs=10, batch_size=128, validation_data=(val_x,val_y))\n",
        "loss_accuracy(history)\n"
      ],
      "metadata": {
        "colab": {
          "base_uri": "https://localhost:8080/",
          "height": 920
        },
        "id": "bpYfySfwU7Nh",
        "outputId": "12a405c6-c940-4771-a971-dd4c48ab0464"
      },
      "execution_count": null,
      "outputs": [
        {
          "output_type": "stream",
          "name": "stdout",
          "text": [
            "Epoch 1/10\n",
            "375/375 [==============================] - 3s 7ms/step - loss: 0.6059 - accuracy: 0.7976 - val_loss: 0.4395 - val_accuracy: 0.8457\n",
            "Epoch 2/10\n",
            "375/375 [==============================] - 3s 7ms/step - loss: 0.4099 - accuracy: 0.8576 - val_loss: 0.3974 - val_accuracy: 0.8586\n",
            "Epoch 3/10\n",
            "375/375 [==============================] - 2s 4ms/step - loss: 0.3767 - accuracy: 0.8692 - val_loss: 0.3867 - val_accuracy: 0.8610\n",
            "Epoch 4/10\n",
            "375/375 [==============================] - 1s 4ms/step - loss: 0.3586 - accuracy: 0.8745 - val_loss: 0.3693 - val_accuracy: 0.8710\n",
            "Epoch 5/10\n",
            "375/375 [==============================] - 1s 4ms/step - loss: 0.3445 - accuracy: 0.8780 - val_loss: 0.3547 - val_accuracy: 0.8754\n",
            "Epoch 6/10\n",
            "375/375 [==============================] - 1s 3ms/step - loss: 0.3325 - accuracy: 0.8819 - val_loss: 0.3511 - val_accuracy: 0.8762\n",
            "Epoch 7/10\n",
            "375/375 [==============================] - 1s 3ms/step - loss: 0.3237 - accuracy: 0.8854 - val_loss: 0.3462 - val_accuracy: 0.8778\n",
            "Epoch 8/10\n",
            "375/375 [==============================] - 1s 4ms/step - loss: 0.3146 - accuracy: 0.8878 - val_loss: 0.3413 - val_accuracy: 0.8806\n",
            "Epoch 9/10\n",
            "375/375 [==============================] - 1s 4ms/step - loss: 0.3067 - accuracy: 0.8902 - val_loss: 0.3467 - val_accuracy: 0.8768\n",
            "Epoch 10/10\n",
            "375/375 [==============================] - 1s 4ms/step - loss: 0.2996 - accuracy: 0.8926 - val_loss: 0.3350 - val_accuracy: 0.8802\n"
          ]
        },
        {
          "output_type": "display_data",
          "data": {
            "text/plain": [
              "<Figure size 432x288 with 1 Axes>"
            ],
            "image/png": "[encoded data removed]"
          },
          "metadata": {
            "needs_background": "light"
          }
        },
        {
          "output_type": "display_data",
          "data": {
            "text/plain": [
              "<Figure size 432x288 with 1 Axes>"
            ],
            "image/png": "[encoded data removed]"
          },
          "metadata": {
            "needs_background": "light"
          }
        }
      ]
    },
    {
      "cell_type": "markdown",
      "source": [
        "### Experiment number 1"
      ],
      "metadata": {
        "id": "eKieQwhOlA3m"
      }
    },
    {
      "cell_type": "markdown",
      "source": [
        "Adding layer"
      ],
      "metadata": {
        "id": "RF1Ll5SRVa6E"
      }
    },
    {
      "cell_type": "code",
      "source": [
        "model1 = tf.keras.models.Sequential()\n",
        "model1.add(tf.keras.layers.Dense(512, input_shape=(28, 28), activation='relu'))\n",
        "model1.add(Flatten())\n",
        "model1.add(tf.keras.layers.Dense(128, activation='relu'))\n",
        "model1.add(tf.keras.layers.Dense(64, activation='relu'))\n",
        "model1.add(tf.keras.layers.Dense(32, activation='relu'))\n",
        "model1.add(tf.keras.layers.Dense(10, activation='softmax'))\n",
        "\n",
        "# Compile the model\n",
        "model1.compile(optimizer='adam', loss='categorical_crossentropy', metrics=['accuracy'])\n",
        "\n",
        "# Train the model\n",
        "history = model1.fit(trainX, trainY, epochs=10, batch_size=128,  validation_data=(val_x,val_y))\n",
        "loss_accuracy(history)"
      ],
      "metadata": {
        "colab": {
          "base_uri": "https://localhost:8080/",
          "height": 920
        },
        "id": "pl5s4EfsVIWQ",
        "outputId": "95cfc12d-dada-4344-ed7e-15f5691b2e8f"
      },
      "execution_count": null,
      "outputs": [
        {
          "output_type": "stream",
          "name": "stdout",
          "text": [
            "Epoch 1/10\n",
            "375/375 [==============================] - 2s 5ms/step - loss: 0.5260 - accuracy: 0.8162 - val_loss: 0.3704 - val_accuracy: 0.8692\n",
            "Epoch 2/10\n",
            "375/375 [==============================] - 2s 4ms/step - loss: 0.3367 - accuracy: 0.8766 - val_loss: 0.3240 - val_accuracy: 0.8827\n",
            "Epoch 3/10\n",
            "375/375 [==============================] - 2s 5ms/step - loss: 0.2895 - accuracy: 0.8941 - val_loss: 0.3253 - val_accuracy: 0.8823\n",
            "Epoch 4/10\n",
            "375/375 [==============================] - 2s 4ms/step - loss: 0.2608 - accuracy: 0.9024 - val_loss: 0.3064 - val_accuracy: 0.8907\n",
            "Epoch 5/10\n",
            "375/375 [==============================] - 2s 4ms/step - loss: 0.2344 - accuracy: 0.9126 - val_loss: 0.3051 - val_accuracy: 0.8878\n",
            "Epoch 6/10\n",
            "375/375 [==============================] - 2s 5ms/step - loss: 0.2157 - accuracy: 0.9200 - val_loss: 0.2944 - val_accuracy: 0.8948\n",
            "Epoch 7/10\n",
            "375/375 [==============================] - 2s 4ms/step - loss: 0.1972 - accuracy: 0.9259 - val_loss: 0.3017 - val_accuracy: 0.8943\n",
            "Epoch 8/10\n",
            "375/375 [==============================] - 2s 4ms/step - loss: 0.1796 - accuracy: 0.9337 - val_loss: 0.3282 - val_accuracy: 0.8907\n",
            "Epoch 9/10\n",
            "375/375 [==============================] - 2s 4ms/step - loss: 0.1620 - accuracy: 0.9398 - val_loss: 0.3053 - val_accuracy: 0.8975\n",
            "Epoch 10/10\n",
            "375/375 [==============================] - 2s 4ms/step - loss: 0.1464 - accuracy: 0.9467 - val_loss: 0.3314 - val_accuracy: 0.8936\n"
          ]
        },
        {
          "output_type": "display_data",
          "data": {
            "text/plain": [
              "<Figure size 432x288 with 1 Axes>"
            ],
            "image/png": "[encoded data removed]"
          },
          "metadata": {
            "needs_background": "light"
          }
        },
        {
          "output_type": "display_data",
          "data": {
            "text/plain": [
              "<Figure size 432x288 with 1 Axes>"
            ],
            "image/png": "[encoded data removed]"
          },
          "metadata": {
            "needs_background": "light"
          }
        }
      ]
    },
    {
      "cell_type": "markdown",
      "source": [
        "### Experiment number 2"
      ],
      "metadata": {
        "id": "SK-L3P-XlDSQ"
      }
    },
    {
      "cell_type": "markdown",
      "source": [
        "Adding epochs"
      ],
      "metadata": {
        "id": "UdxDI-UKVibI"
      }
    },
    {
      "cell_type": "code",
      "source": [
        "# Define the model\n",
        "model2 = tf.keras.models.Sequential()\n",
        "model2.add(tf.keras.layers.Dense(128, input_shape=(28, 28), activation='relu'))\n",
        "model2.add(Flatten())\n",
        "model2.add(tf.keras.layers.Dense(10, activation='softmax'))\n",
        "\n",
        "# Compile the model\n",
        "model2.compile(optimizer='adam', loss='categorical_crossentropy', metrics=['accuracy'])\n",
        "\n",
        "# Train the model\n",
        "history = model2.fit(trainX, trainY, epochs=40, batch_size=256,verbose=1,  validation_data=(val_x,val_y))\n",
        "loss_accuracy(history)\n",
        "# print('Validation accuracy:', test_acc)"
      ],
      "metadata": {
        "colab": {
          "base_uri": "https://localhost:8080/",
          "height": 1000
        },
        "id": "_LqncqjsVezC",
        "outputId": "45085482-8f58-4b47-f9cc-271f77739a35"
      },
      "execution_count": null,
      "outputs": [
        {
          "output_type": "stream",
          "name": "stdout",
          "text": [
            "Epoch 1/40\n",
            "188/188 [==============================] - 1s 5ms/step - loss: 0.6370 - accuracy: 0.7908 - val_loss: 0.4455 - val_accuracy: 0.8468\n",
            "Epoch 2/40\n",
            "188/188 [==============================] - 1s 5ms/step - loss: 0.4117 - accuracy: 0.8578 - val_loss: 0.3941 - val_accuracy: 0.8608\n",
            "Epoch 3/40\n",
            "188/188 [==============================] - 1s 5ms/step - loss: 0.3746 - accuracy: 0.8700 - val_loss: 0.3838 - val_accuracy: 0.8628\n",
            "Epoch 4/40\n",
            "188/188 [==============================] - 1s 5ms/step - loss: 0.3566 - accuracy: 0.8751 - val_loss: 0.3647 - val_accuracy: 0.8717\n",
            "Epoch 5/40\n",
            "188/188 [==============================] - 1s 5ms/step - loss: 0.3400 - accuracy: 0.8804 - val_loss: 0.3505 - val_accuracy: 0.8771\n",
            "Epoch 6/40\n",
            "188/188 [==============================] - 1s 4ms/step - loss: 0.3276 - accuracy: 0.8840 - val_loss: 0.3469 - val_accuracy: 0.8776\n",
            "Epoch 7/40\n",
            "188/188 [==============================] - 1s 5ms/step - loss: 0.3190 - accuracy: 0.8884 - val_loss: 0.3409 - val_accuracy: 0.8785\n",
            "Epoch 8/40\n",
            "188/188 [==============================] - 1s 4ms/step - loss: 0.3116 - accuracy: 0.8898 - val_loss: 0.3363 - val_accuracy: 0.8786\n",
            "Epoch 9/40\n",
            "188/188 [==============================] - 1s 5ms/step - loss: 0.3010 - accuracy: 0.8935 - val_loss: 0.3336 - val_accuracy: 0.8801\n",
            "Epoch 10/40\n",
            "188/188 [==============================] - 1s 4ms/step - loss: 0.2972 - accuracy: 0.8949 - val_loss: 0.3324 - val_accuracy: 0.8808\n",
            "Epoch 11/40\n",
            "188/188 [==============================] - 1s 5ms/step - loss: 0.2891 - accuracy: 0.8972 - val_loss: 0.3262 - val_accuracy: 0.8819\n",
            "Epoch 12/40\n",
            "188/188 [==============================] - 1s 6ms/step - loss: 0.2856 - accuracy: 0.8981 - val_loss: 0.3328 - val_accuracy: 0.8802\n",
            "Epoch 13/40\n",
            "188/188 [==============================] - 1s 6ms/step - loss: 0.2774 - accuracy: 0.8998 - val_loss: 0.3197 - val_accuracy: 0.8855\n",
            "Epoch 14/40\n",
            "188/188 [==============================] - 1s 5ms/step - loss: 0.2737 - accuracy: 0.9015 - val_loss: 0.3186 - val_accuracy: 0.8852\n",
            "Epoch 15/40\n",
            "188/188 [==============================] - 1s 4ms/step - loss: 0.2670 - accuracy: 0.9056 - val_loss: 0.3146 - val_accuracy: 0.8848\n",
            "Epoch 16/40\n",
            "188/188 [==============================] - 1s 5ms/step - loss: 0.2625 - accuracy: 0.9066 - val_loss: 0.3200 - val_accuracy: 0.8843\n",
            "Epoch 17/40\n",
            "188/188 [==============================] - 1s 5ms/step - loss: 0.2599 - accuracy: 0.9069 - val_loss: 0.3167 - val_accuracy: 0.8855\n",
            "Epoch 18/40\n",
            "188/188 [==============================] - 1s 4ms/step - loss: 0.2571 - accuracy: 0.9084 - val_loss: 0.3109 - val_accuracy: 0.8858\n",
            "Epoch 19/40\n",
            "188/188 [==============================] - 1s 4ms/step - loss: 0.2534 - accuracy: 0.9096 - val_loss: 0.3225 - val_accuracy: 0.8832\n",
            "Epoch 20/40\n",
            "188/188 [==============================] - 1s 4ms/step - loss: 0.2462 - accuracy: 0.9129 - val_loss: 0.3193 - val_accuracy: 0.8844\n",
            "Epoch 21/40\n",
            "188/188 [==============================] - 1s 5ms/step - loss: 0.2442 - accuracy: 0.9128 - val_loss: 0.3086 - val_accuracy: 0.8896\n",
            "Epoch 22/40\n",
            "188/188 [==============================] - 1s 5ms/step - loss: 0.2408 - accuracy: 0.9145 - val_loss: 0.3111 - val_accuracy: 0.8881\n",
            "Epoch 23/40\n",
            "188/188 [==============================] - 1s 4ms/step - loss: 0.2378 - accuracy: 0.9147 - val_loss: 0.3098 - val_accuracy: 0.8881\n",
            "Epoch 24/40\n",
            "188/188 [==============================] - 1s 5ms/step - loss: 0.2342 - accuracy: 0.9180 - val_loss: 0.3183 - val_accuracy: 0.8862\n",
            "Epoch 25/40\n",
            "188/188 [==============================] - 1s 4ms/step - loss: 0.2301 - accuracy: 0.9180 - val_loss: 0.3097 - val_accuracy: 0.8900\n",
            "Epoch 26/40\n",
            "188/188 [==============================] - 1s 4ms/step - loss: 0.2288 - accuracy: 0.9199 - val_loss: 0.3127 - val_accuracy: 0.8887\n",
            "Epoch 27/40\n",
            "188/188 [==============================] - 1s 5ms/step - loss: 0.2246 - accuracy: 0.9208 - val_loss: 0.3060 - val_accuracy: 0.8900\n",
            "Epoch 28/40\n",
            "188/188 [==============================] - 1s 4ms/step - loss: 0.2209 - accuracy: 0.9215 - val_loss: 0.3186 - val_accuracy: 0.8892\n",
            "Epoch 29/40\n",
            "188/188 [==============================] - 1s 4ms/step - loss: 0.2205 - accuracy: 0.9214 - val_loss: 0.3073 - val_accuracy: 0.8903\n",
            "Epoch 30/40\n",
            "188/188 [==============================] - 1s 4ms/step - loss: 0.2159 - accuracy: 0.9238 - val_loss: 0.3082 - val_accuracy: 0.8899\n",
            "Epoch 31/40\n",
            "188/188 [==============================] - 1s 5ms/step - loss: 0.2153 - accuracy: 0.9235 - val_loss: 0.3149 - val_accuracy: 0.8889\n",
            "Epoch 32/40\n",
            "188/188 [==============================] - 1s 5ms/step - loss: 0.2129 - accuracy: 0.9234 - val_loss: 0.3136 - val_accuracy: 0.8896\n",
            "Epoch 33/40\n",
            "188/188 [==============================] - 1s 4ms/step - loss: 0.2116 - accuracy: 0.9252 - val_loss: 0.3115 - val_accuracy: 0.8905\n",
            "Epoch 34/40\n",
            "188/188 [==============================] - 1s 5ms/step - loss: 0.2075 - accuracy: 0.9277 - val_loss: 0.3149 - val_accuracy: 0.8892\n",
            "Epoch 35/40\n",
            "188/188 [==============================] - 1s 5ms/step - loss: 0.2051 - accuracy: 0.9284 - val_loss: 0.3106 - val_accuracy: 0.8910\n",
            "Epoch 36/40\n",
            "188/188 [==============================] - 1s 4ms/step - loss: 0.2025 - accuracy: 0.9280 - val_loss: 0.3165 - val_accuracy: 0.8916\n",
            "Epoch 37/40\n",
            "188/188 [==============================] - 1s 5ms/step - loss: 0.2014 - accuracy: 0.9298 - val_loss: 0.3170 - val_accuracy: 0.8867\n",
            "Epoch 38/40\n",
            "188/188 [==============================] - 1s 5ms/step - loss: 0.1983 - accuracy: 0.9302 - val_loss: 0.3200 - val_accuracy: 0.8890\n",
            "Epoch 39/40\n",
            "188/188 [==============================] - 1s 5ms/step - loss: 0.1967 - accuracy: 0.9309 - val_loss: 0.3155 - val_accuracy: 0.8918\n",
            "Epoch 40/40\n",
            "188/188 [==============================] - 1s 5ms/step - loss: 0.1960 - accuracy: 0.9315 - val_loss: 0.3196 - val_accuracy: 0.8899\n"
          ]
        },
        {
          "output_type": "display_data",
          "data": {
            "text/plain": [
              "<Figure size 432x288 with 1 Axes>"
            ],
            "image/png": "[encoded data removed]"
          },
          "metadata": {
            "needs_background": "light"
          }
        },
        {
          "output_type": "display_data",
          "data": {
            "text/plain": [
              "<Figure size 432x288 with 1 Axes>"
            ],
            "image/png": "[encoded data removed]"
          },
          "metadata": {
            "needs_background": "light"
          }
        }
      ]
    },
    {
      "cell_type": "markdown",
      "source": [
        "## Test Environment (of part 2 only)\n",
        "This part is meant to show the tester how your model is performing. Keep in mind that the only cells he is going to run are the cells below.<br>\n",
        "(If there are libraries that need to be used please add their import. If there is a process that the data has to go through before it enters the model, don't forget to add it as well)."
      ],
      "metadata": {
        "id": "L0xlxiaj6xM4"
      }
    },
    {
      "cell_type": "markdown",
      "source": [
        "### Load trained model"
      ],
      "metadata": {
        "id": "-rMJ1ucy7lKB"
      }
    },
    {
      "cell_type": "code",
      "source": [
        "\n",
        "from sklearn.metrics import accuracy_score, classification_report,ConfusionMatrixDisplay\n",
        "\n",
        "baseResult = baseModel.predict(x_test)\n",
        "result1 = model1.predict(x_test)\n",
        "result2 = model2.predict(x_test)\n",
        "\n",
        "\n",
        "def resultFunc(result):\n",
        "  predictions = np.zeros((y_test.shape[0],1))\n",
        "  for i in range(10000):\n",
        "    max = 0\n",
        "    for j in range(10):\n",
        "      if result[i][j]>max:\n",
        "        max=result[i][j]\n",
        "        predictions[i,0]=j\n",
        "  print(f\"\\taccuracy: {accuracy_score(y_test,predictions).round(3)*100}%\")\n",
        "  ConfusionMatrixDisplay.from_predictions(y_test,predictions)\n",
        "  print(classification_report(y_test,predictions, labels=range(0,10)))\n",
        "  plt.show()\n",
        "\n",
        "\n",
        "print(\"\\tbase result:\")\n",
        "resultFunc(baseResult)\n",
        "print(\"\\tmodel1 result:\")\n",
        "resultFunc(result1)\n",
        "print(\"\\tmodel2 result:\")\n",
        "resultFunc(result2)\n"
      ],
      "metadata": {
        "id": "I27yHolJ7naT",
        "colab": {
          "base_uri": "https://localhost:8080/",
          "height": 1000
        },
        "outputId": "e658de1d-f975-4633-f2e5-626655f57a04"
      },
      "execution_count": null,
      "outputs": [
        {
          "output_type": "stream",
          "name": "stdout",
          "text": [
            "313/313 [==============================] - 1s 2ms/step\n",
            "313/313 [==============================] - 1s 2ms/step\n",
            "313/313 [==============================] - 1s 2ms/step\n",
            "\tbase result:\n",
            "\taccuracy: 87.4%\n",
            "              precision    recall  f1-score   support\n",
            "\n",
            "           0       0.79      0.86      0.82      1000\n",
            "           1       0.98      0.97      0.98      1000\n",
            "           2       0.75      0.83      0.79      1000\n",
            "           3       0.86      0.88      0.87      1000\n",
            "           4       0.79      0.80      0.79      1000\n",
            "           5       0.98      0.94      0.96      1000\n",
            "           6       0.75      0.56      0.64      1000\n",
            "           7       0.92      0.97      0.94      1000\n",
            "           8       0.94      0.97      0.96      1000\n",
            "           9       0.96      0.96      0.96      1000\n",
            "\n",
            "    accuracy                           0.87     10000\n",
            "   macro avg       0.87      0.87      0.87     10000\n",
            "weighted avg       0.87      0.87      0.87     10000\n",
            "\n"
          ]
        },
        {
          "output_type": "display_data",
          "data": {
            "text/plain": [
              "<Figure size 432x288 with 2 Axes>"
            ],
            "image/png": "[encoded data removed]"
          },
          "metadata": {
            "needs_background": "light"
          }
        },
        {
          "output_type": "stream",
          "name": "stdout",
          "text": [
            "\tmodel1 result:\n",
            "\taccuracy: 89.2%\n",
            "              precision    recall  f1-score   support\n",
            "\n",
            "           0       0.82      0.88      0.85      1000\n",
            "           1       0.99      0.97      0.98      1000\n",
            "           2       0.73      0.90      0.81      1000\n",
            "           3       0.88      0.91      0.90      1000\n",
            "           4       0.91      0.72      0.81      1000\n",
            "           5       0.99      0.95      0.97      1000\n",
            "           6       0.74      0.66      0.70      1000\n",
            "           7       0.95      0.96      0.96      1000\n",
            "           8       0.98      0.98      0.98      1000\n",
            "           9       0.95      0.97      0.96      1000\n",
            "\n",
            "    accuracy                           0.89     10000\n",
            "   macro avg       0.89      0.89      0.89     10000\n",
            "weighted avg       0.89      0.89      0.89     10000\n",
            "\n"
          ]
        },
        {
          "output_type": "display_data",
          "data": {
            "text/plain": [
              "<Figure size 432x288 with 2 Axes>"
            ],
            "image/png": "[encoded data removed]"
          },
          "metadata": {
            "needs_background": "light"
          }
        },
        {
          "output_type": "stream",
          "name": "stdout",
          "text": [
            "\tmodel2 result:\n",
            "\taccuracy: 88.5%\n",
            "              precision    recall  f1-score   support\n",
            "\n",
            "           0       0.80      0.86      0.83      1000\n",
            "           1       0.97      0.98      0.98      1000\n",
            "           2       0.79      0.84      0.82      1000\n",
            "           3       0.91      0.85      0.88      1000\n",
            "           4       0.77      0.87      0.82      1000\n",
            "           5       0.98      0.95      0.97      1000\n",
            "           6       0.77      0.58      0.67      1000\n",
            "           7       0.93      0.96      0.95      1000\n",
            "           8       0.96      0.98      0.97      1000\n",
            "           9       0.96      0.96      0.96      1000\n",
            "\n",
            "    accuracy                           0.88     10000\n",
            "   macro avg       0.88      0.88      0.88     10000\n",
            "weighted avg       0.88      0.88      0.88     10000\n",
            "\n"
          ]
        },
        {
          "output_type": "display_data",
          "data": {
            "text/plain": [
              "<Figure size 432x288 with 2 Axes>"
            ],
            "image/png": "[encoded data removed]"
          },
          "metadata": {
            "needs_background": "light"
          }
        }
      ]
    },
    {
      "cell_type": "markdown",
      "source": [
        "### Single prediction\n",
        "Let the tester examine your trained model on single predicttion test.<br>You will use the colab.file library to allow the tester to upload a single image of an item of clothing (28x28 image).<br>\n",
        "Then build a function that takes this image, loads the weights of the trained model (If you haven't loaded it before) and prints a prediction."
      ],
      "metadata": {
        "id": "5PSVr_J-_wmX"
      }
    },
    {
      "cell_type": "code",
      "source": [
        "import tensorflow as tf\n",
        "from tensorflow import keras"
      ],
      "metadata": {
        "id": "kDwk5C13BDD4"
      },
      "execution_count": null,
      "outputs": []
    },
    {
      "cell_type": "code",
      "source": [
        "from numpy import load as load_npy\n",
        "from google.colab import files\n",
        "files.upload()"
      ],
      "metadata": {
        "id": "WGSD04i68JW-",
        "colab": {
          "base_uri": "https://localhost:8080/",
          "height": 180
        },
        "outputId": "9ad7054b-8993-4691-916b-1b1c61452a4c"
      },
      "execution_count": null,
      "outputs": [
        {
          "output_type": "display_data",
          "data": {
            "text/plain": [
              "<IPython.core.display.HTML object>"
            ],
            "text/html": [
              "\n",
              "     <input type=\"file\" id=\"files-f084e892-90c2-4cf5-be54-fc62750a0c44\" name=\"files[]\" multiple disabled\n",
              "        style=\"border:none\" />\n",
              "     <output id=\"result-f084e892-90c2-4cf5-be54-fc62750a0c44\">\n",
              "      Upload widget is only available when the cell has been executed in the\n",
              "      current browser session. Please rerun this cell to enable.\n",
              "      </output>\n",
              "      <script>// Copyright 2017 Google LLC\n",
              "//\n",
              "// Licensed under the Apache License, Version 2.0 (the \"License\");\n",
              "// you may not use this file except in compliance with the License.\n",
              "// You may obtain a copy of the License at\n",
              "//\n",
              "//      http://www.apache.org/licenses/LICENSE-2.0\n",
              "//\n",
              "// Unless required by applicable law or agreed to in writing, software\n",
              "// distributed under the License is distributed on an \"AS IS\" BASIS,\n",
              "// WITHOUT WARRANTIES OR CONDITIONS OF ANY KIND, either express or implied.\n",
              "// See the License for the specific language governing permissions and\n",
              "// limitations under the License.\n",
              "\n",
              "/**\n",
              " * @fileoverview Helpers for google.colab Python module.\n",
              " */\n",
              "(function(scope) {\n",
              "function span(text, styleAttributes = {}) {\n",
              "  const element = document.createElement('span');\n",
              "  element.textContent = text;\n",
              "  for (const key of Object.keys(styleAttributes)) {\n",
              "    element.style[key] = styleAttributes[key];\n",
              "  }\n",
              "  return element;\n",
              "}\n",
              "\n",
              "// Max number of bytes which will be uploaded at a time.\n",
              "const MAX_PAYLOAD_SIZE = 100 * 1024;\n",
              "\n",
              "function _uploadFiles(inputId, outputId) {\n",
              "  const steps = uploadFilesStep(inputId, outputId);\n",
              "  const outputElement = document.getElementById(outputId);\n",
              "  // Cache steps on the outputElement to make it available for the next call\n",
              "  // to uploadFilesContinue from Python.\n",
              "  outputElement.steps = steps;\n",
              "\n",
              "  return _uploadFilesContinue(outputId);\n",
              "}\n",
              "\n",
              "// This is roughly an async generator (not supported in the browser yet),\n",
              "// where there are multiple asynchronous steps and the Python side is going\n",
              "// to poll for completion of each step.\n",
              "// This uses a Promise to block the python side on completion of each step,\n",
              "// then passes the result of the previous step as the input to the next step.\n",
              "function _uploadFilesContinue(outputId) {\n",
              "  const outputElement = document.getElementById(outputId);\n",
              "  const steps = outputElement.steps;\n",
              "\n",
              "  const next = steps.next(outputElement.lastPromiseValue);\n",
              "  return Promise.resolve(next.value.promise).then((value) => {\n",
              "    // Cache the last promise value to make it available to the next\n",
              "    // step of the generator.\n",
              "    outputElement.lastPromiseValue = value;\n",
              "    return next.value.response;\n",
              "  });\n",
              "}\n",
              "\n",
              "/**\n",
              " * Generator function which is called between each async step of the upload\n",
              " * process.\n",
              " * @param {string} inputId Element ID of the input file picker element.\n",
              " * @param {string} outputId Element ID of the output display.\n",
              " * @return {!Iterable<!Object>} Iterable of next steps.\n",
              " */\n",
              "function* uploadFilesStep(inputId, outputId) {\n",
              "  const inputElement = document.getElementById(inputId);\n",
              "  inputElement.disabled = false;\n",
              "\n",
              "  const outputElement = document.getElementById(outputId);\n",
              "  outputElement.innerHTML = '';\n",
              "\n",
              "  const pickedPromise = new Promise((resolve) => {\n",
              "    inputElement.addEventListener('change', (e) => {\n",
              "      resolve(e.target.files);\n",
              "    });\n",
              "  });\n",
              "\n",
              "  const cancel = document.createElement('button');\n",
              "  inputElement.parentElement.appendChild(cancel);\n",
              "  cancel.textContent = 'Cancel upload';\n",
              "  const cancelPromise = new Promise((resolve) => {\n",
              "    cancel.onclick = () => {\n",
              "      resolve(null);\n",
              "    };\n",
              "  });\n",
              "\n",
              "  // Wait for the user to pick the files.\n",
              "  const files = yield {\n",
              "    promise: Promise.race([pickedPromise, cancelPromise]),\n",
              "    response: {\n",
              "      action: 'starting',\n",
              "    }\n",
              "  };\n",
              "\n",
              "  cancel.remove();\n",
              "\n",
              "  // Disable the input element since further picks are not allowed.\n",
              "  inputElement.disabled = true;\n",
              "\n",
              "  if (!files) {\n",
              "    return {\n",
              "      response: {\n",
              "        action: 'complete',\n",
              "      }\n",
              "    };\n",
              "  }\n",
              "\n",
              "  for (const file of files) {\n",
              "    const li = document.createElement('li');\n",
              "    li.append(span(file.name, {fontWeight: 'bold'}));\n",
              "    li.append(span(\n",
              "        `(${file.type || 'n/a'}) - ${file.size} bytes, ` +\n",
              "        `last modified: ${\n",
              "            file.lastModifiedDate ? file.lastModifiedDate.toLocaleDateString() :\n",
              "                                    'n/a'} - `));\n",
              "    const percent = span('0% done');\n",
              "    li.appendChild(percent);\n",
              "\n",
              "    outputElement.appendChild(li);\n",
              "\n",
              "    const fileDataPromise = new Promise((resolve) => {\n",
              "      const reader = new FileReader();\n",
              "      reader.onload = (e) => {\n",
              "        resolve(e.target.result);\n",
              "      };\n",
              "      reader.readAsArrayBuffer(file);\n",
              "    });\n",
              "    // Wait for the data to be ready.\n",
              "    let fileData = yield {\n",
              "      promise: fileDataPromise,\n",
              "      response: {\n",
              "        action: 'continue',\n",
              "      }\n",
              "    };\n",
              "\n",
              "    // Use a chunked sending to avoid message size limits. See b/62115660.\n",
              "    let position = 0;\n",
              "    do {\n",
              "      const length = Math.min(fileData.byteLength - position, MAX_PAYLOAD_SIZE);\n",
              "      const chunk = new Uint8Array(fileData, position, length);\n",
              "      position += length;\n",
              "\n",
              "      const base64 = btoa(String.fromCharCode.apply(null, chunk));\n",
              "      yield {\n",
              "        response: {\n",
              "          action: 'append',\n",
              "          file: file.name,\n",
              "          data: base64,\n",
              "        },\n",
              "      };\n",
              "\n",
              "      let percentDone = fileData.byteLength === 0 ?\n",
              "          100 :\n",
              "          Math.round((position / fileData.byteLength) * 100);\n",
              "      percent.textContent = `${percentDone}% done`;\n",
              "\n",
              "    } while (position < fileData.byteLength);\n",
              "  }\n",
              "\n",
              "  // All done.\n",
              "  yield {\n",
              "    response: {\n",
              "      action: 'complete',\n",
              "    }\n",
              "  };\n",
              "}\n",
              "\n",
              "scope.google = scope.google || {};\n",
              "scope.google.colab = scope.google.colab || {};\n",
              "scope.google.colab._files = {\n",
              "  _uploadFiles,\n",
              "  _uploadFilesContinue,\n",
              "};\n",
              "})(self);\n",
              "</script> "
            ]
          },
          "metadata": {}
        },
        {
          "output_type": "stream",
          "name": "stdout",
          "text": [
            "Saving Shirt_6.npy to Shirt_6.npy\n"
          ]
        },
        {
          "output_type": "execute_result",
          "data": {
            "text/plain": [
              "{'Shirt_6.npy': b\"\\x93NUMPY\\x01\\x00v\\x00{'descr': '|u1', 'fortran_order': False, 'shape': (28, 28), }                                                        \\n\\x00\\x00\\x00\\x02\\x00\\x01\\x01\\x00\\x00\\x00\\x009CILLS>\\x00\\x00\\x00\\x00\\x00\\x00\\x00\\x00\\x00\\x00\\x00\\x00\\x00\\x01\\x01\\x01\\x00\\x00\\rO\\x80\\xc9\\xa2\\xa1\\xad\\xc0\\xac\\xb5\\xb8l\\x1e\\x00\\x00\\x00\\x00\\x00\\x00\\x00\\x00\\x00\\x00\\x00\\x01\\x00\\x00f\\x8b\\x8egs\\xa2\\x9a\\xa5\\x99\\x8b\\x81\\x96\\x8a\\xab\\xa1\\x1a\\x00\\x00\\x00\\x00\\x00\\x00\\x00\\x00\\x01\\x00\\x00j|lgj]d\\xb4\\x9c\\x93\\x8aU\\x9dr|\\x9a\\x9d\\x00\\x00\\x00\\x00\\x00\\x00\\x00\\x00\\x02\\x00\\x1d\\x86eqlatQ\\x92\\xb7\\xa4o\\x92\\x83z\\x84\\x91\\xa9]\\x00\\x01\\x00\\x00\\x00\\x00\\x00\\x00\\x00A\\x83ieldhaJ\\xce\\xaes\\x96lw\\x92\\x98\\xa2\\x8d\\x00\\x00\\x00\\x00\\x00\\x00\\x00\\x00\\x00l{pjbdeoH\\x88\\x84psm\\x8e\\x96\\xa0\\xa2\\xc3\\x00\\x00\\x00\\x00\\x00\\x00\\x00\\x00\\x00\\x87zwpS]ajs[mSm}\\xa5\\x8c\\xc1\\xa0\\xb0\\x06\\x00\\x00\\x00\\x00\\x00\\x00\\x00\\x17\\x87\\x84\\x95hN`agllsTr\\x95\\x9e\\x93\\xd1\\xa0\\xb24\\x00\\x00\\x00\\x00\\x00\\x00\\x009|\\x83\\xa0g`emmolrjq\\x9c\\xa3\\x9c\\xc4\\xa7\\xaeU\\x00\\x00\\x00\\x00\\x00\\x00\\x00Vt~\\xa0\\x84f`hkb]{tp\\x95\\xa0\\xb5\\xba\\xa2\\xa2{\\x00\\x00\\x00\\x00\\x00\\x00\\x00prp\\xa7\\x92ddek`d~gx\\x8d\\x9e\\xa7\\xbb\\x93\\x94\\xaa\\x00\\x00\\x00\\x00\\x00\\x00\\x00|ve\\xc5Yed`lglzk\\x7f\\x8b\\x96w\\xc4\\x91\\x8e\\xb3\\x00\\x00\\x00\\x00\\x00\\x00\\x00\\x83sa\\xc6/l``jwfxg{\\x8c\\x96Q\\xce\\x92\\x87\\xc2\\x00\\x00\\x00\\x00\\x00\\x00\\x04\\x88vb\\xc1\\x15m`jf\\x81dwfv\\x8d\\x99-\\xd8\\x94\\x8b\\xcd\\x0c\\x00\\x00\\x00\\x00\\x00\\x18\\x89ue\\xbb\\x19q\\\\p^xi\\x7fas\\x8e\\x96\\x13\\xd5\\x94\\x83\\xcc$\\x00\\x00\\x00\\x00\\x00(\\x8dmu\\x9e\\x0c|Zt`uq\\x88^o\\x93\\xa3\\x1f\\xbf\\x92\\x86\\xce:\\x00\\x00\\x00\\x00\\x00'\\x81f\\x93w\\x00xZwetj\\x7ffr\\x92\\xb4\\x14\\x92\\x9f\\x81\\xccF\\x00\\x00\\x00\\x00\\x00:~o\\xa2e\\x15\\x84Y{ljf~ot\\x8d\\xb22p\\xa9\\x8a\\xa4T\\x00\\x00\\x00\\x00\\x00l\\x86\\x86\\xb9TI{Wzofj\\x80rm\\x86\\xaeab\\xa0\\x93\\xaf\\x87\\x00\\x00\\x00\\x00\\x00a\\x8e\\xa9\\xc6%Tkazpmp~f`\\x83\\xac\\x803\\xfe\\xa8\\xa4o\\x00\\x00\\x00\\x00\\x00\\x00\\x00\\x0c.\\x02wfm{`tz\\x84jj\\x81\\x97\\xb8\\x1a\\x14\\x08\\x00\\x00\\x00\\x00\\x00\\x00\\x00\\x00\\x00\\x00\\x00\\r\\x89erdj\\x86\\x87\\x81ho{\\x97\\xc2J\\x00\\x00\\x00\\x00\\x00\\x00\\x00\\x00\\x00\\x00\\x01\\x03\\x00I\\x84ehf\\x8cll\\x83jwq\\x8e\\xa7\\x87\\x00\\x01\\x00\\x00\\x00\\x00\\x00\\x00\\x00\\x00\\x00\\x00\\x00pvkh\\x8bma{\\x8ak\\x7fx\\x88\\xa1\\x9f\\x00\\x00\\x01\\x00\\x00\\x00\\x00\\x00\\x00\\x00\\x00\\x03\\x00\\x8e\\x94pieS}{\\x8fhsd~\\xa8\\xb2\\x07\\x00\\x02\\x00\\x00\\x00\\x00\\x00\\x00\\x00\\x00\\x02\\x00\\t~\\xb8\\xc8\\xa7\\xa3\\xab\\x96\\xa7\\x9c\\xae\\xc5\\xb6\\xa2=\\x00\\x00\\x00\\x00\\x00\\x00\\x00\\x00\\x00\\x00\\x00\\x00\\x00\\x00\\x00\\x00\\x1eH_moojeG\\x0c\\x00\\x00\\x00\\x00\\x00\\x00\\x00\\x00\"}"
            ]
          },
          "metadata": {},
          "execution_count": 18
        }
      ]
    },
    {
      "cell_type": "code",
      "source": [
        "img = load_npy('/content/Shirt_6.npy') \n",
        "img = img/255\n",
        "test_image_as_batch = np.expand_dims(img, axis = 0)\n",
        "baseRes = baseModel.predict(test_image_as_batch)\n",
        "Res1 = model1.predict(test_image_as_batch)\n",
        "Res2 = model2.predict(test_image_as_batch)\n",
        "\n",
        "def oneRes(result):\n",
        "  maxi=0;\n",
        "  for i in range(10):\n",
        "    if(result[0][i]>maxi):\n",
        "      maxi=result[0][i]\n",
        "      index=i\n",
        "    if index ==0:\n",
        "      prediction = 'T-shirt/top'\n",
        "    elif index==1:\n",
        "      prediction = 'Trouser'\n",
        "    elif index==2:\n",
        "      prediction = 'Pullover'\n",
        "    elif index==3:\n",
        "      prediction = 'Dress'\n",
        "    elif index==4:\n",
        "      prediction = 'Coat'\n",
        "    elif index==5:\n",
        "      prediction = 'Sandal'\n",
        "    elif index==6:\n",
        "      prediction = 'Shirt'\n",
        "    elif index==7:\n",
        "      prediction = 'Sneaker'\n",
        "    elif index==8:\n",
        "      prediction = 'Bag'\n",
        "    else:\n",
        "      prediction=\"Ankle boot\"\n",
        "  print(prediction)\n",
        "\n",
        "oneRes(baseRes)\n",
        "oneRes(Res1)\n",
        "oneRes(Res2)"
      ],
      "metadata": {
        "id": "Y7SBK56880aY",
        "colab": {
          "base_uri": "https://localhost:8080/"
        },
        "outputId": "7f3228a4-bbb1-4492-89c3-34938705e9f0"
      },
      "execution_count": null,
      "outputs": [
        {
          "output_type": "stream",
          "name": "stdout",
          "text": [
            "1/1 [==============================] - 0s 21ms/step\n",
            "1/1 [==============================] - 0s 19ms/step\n",
            "1/1 [==============================] - 0s 17ms/step\n",
            "Shirt\n",
            "Shirt\n",
            "T-shirt/top\n"
          ]
        }
      ]
    }
  ]
}